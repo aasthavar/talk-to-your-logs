{
 "cells": [
  {
   "cell_type": "code",
   "execution_count": 17,
   "metadata": {},
   "outputs": [
    {
     "name": "stdout",
     "output_type": "stream",
     "text": [
      "The autoreload extension is already loaded. To reload it, use:\n",
      "  %reload_ext autoreload\n"
     ]
    }
   ],
   "source": [
    "%load_ext autoreload\n",
    "%autoreload 2"
   ]
  },
  {
   "cell_type": "code",
   "execution_count": 18,
   "metadata": {},
   "outputs": [
    {
     "data": {
      "text/plain": [
       "True"
      ]
     },
     "execution_count": 18,
     "metadata": {},
     "output_type": "execute_result"
    }
   ],
   "source": [
    "from dotenv import load_dotenv\n",
    "from pathlib import Path\n",
    "\n",
    "dotenv_path = Path(\"/home/ubuntu/config.env\")\n",
    "\n",
    "load_dotenv(dotenv_path=dotenv_path)"
   ]
  },
  {
   "cell_type": "markdown",
   "metadata": {},
   "source": [
    "### construct prompt"
   ]
  },
  {
   "cell_type": "code",
   "execution_count": 76,
   "metadata": {},
   "outputs": [],
   "source": [
    "sytem_tone_context = \"\"\"You are an expert at writing syntactically correct queries that run on AWS Cloudwatch logs groups.\n",
    "The query syntax supports different functions, operations required to search and analyze logs.\"\"\"\n",
    "\n",
    "context = \"\"\"<context>\n",
    "<logs_and_fields>\n",
    "1. Sytem fields: @message, @timestamp, @ingestionTime, @logStream, @log\n",
    "2. Amazon VPC flow logs: @timestamp, @logStream, @message, accountId, endTime, interfaceId, logStatus, startTime, version, action, bytes, dstAddr, dstPort, packets, protocol, srcAddr, srcPort\n",
    "3. Route 53 logs: @timestamp, @logStream, @message, edgeLocation, ednsClientSubnet, hostZoneId, protocol, queryName, queryTimestamp, queryType, resolverIp, responseCode, version\n",
    "4. Lambda logs: @timestamp, @logStream, @message, @requestId, @duration, @billedDuration, @type, @maxMemoryUsed, @memorySize, @xrayTraceId, @xraySegmentId\n",
    "</logs_and_fields>\n",
    "\n",
    "<fields_definition>\n",
    "1. @message: contains the raw unparsed log event.\n",
    "2. @timestamp: contains the event timestamp in the log event's timestamp field.\n",
    "3. @ingestionTime: contains the time when CloudWatch Logs received the log event.\n",
    "4. @logStream: contains the name of the log stream that the log event was added to. Log streams group logs through the same process that generated them.\n",
    "5. @log: is a log group identifier in the form of account-id:log-group-name. When querying multiple log groups, this can be useful to identify which log group a particular event belongs to.\n",
    "</fields_definition>\n",
    "\n",
    "<commands>\n",
    "1. display: displays a specific field or fields in query results.\n",
    "2. fields: displays specific fields in query results and supports functions and operations you can use to modify field values and create new fields to use in your query.\n",
    "3. filter: filters the query to return only the log events that match one or more conditions.\n",
    "4. pattern: automatically clusters your log data into patterns. A pattern is shared text structure that recurs among your log fields. CloudWatch Logs Insights provides ways for you to analyze the patterns found in your log events. For more information, see Pattern analysis.\n",
    "5. diff: compares the log events found in your requested time period with the log events from a previous time period of equal length, so that you can look for trends and find out if certain log events are new.\n",
    "6. parse: extracts data from a log field to create an extracted field that you can process in your query. parse supports both glob mode using wildcards, and regular expressions.\n",
    "7. sort: displays the returned log events in ascending (asc) or descending (desc) order.\n",
    "8. stats: calculate aggregate statistics using values in the log fields.\n",
    "9. limit: specifies a maximum number of log events that you want your query to return. Useful with sort to return \"top 20\" or \"most recent 20\" results.\n",
    "10. dedup: removes duplicate results based on specific values in fields that you specify.\n",
    "11. unmask: displays all the content of a log event that has some content masked because of a data protection policy. For more information about data protection in log groups, see Help protect sensitive log data with masking.\n",
    "</commands>\n",
    "\n",
    "<operators>\n",
    "1. arithmetic: `+` | `-` | `*` | `/` | `^` | `%`\n",
    "2. boolean: `and` | `or` | `not`\n",
    "3. comparison: `=` | `!=` | `<` | `>` | `<=` | '>=`\n",
    "4. numeric: `abs` | `ceil` | `floor` | `greatest` | `least` | `log` | `sqrt`\n",
    "5. datetime: `bin` | `datefloor` | `dateceil` | `fromMillis` | `toMillis`\n",
    "</operators>\n",
    "\n",
    "<functions>\n",
    "1. General: \n",
    "    - ispresent(fieldName: LogField)\n",
    "    - coalesce(fieldName: LogField, ...fieldNames: LogField[])\n",
    "2. IP address string functions: \n",
    "    - isValidIp(fieldName: string)\n",
    "    - isValidIpV4(fieldName: string)\n",
    "    - isValidIpV6(fieldName: string)\n",
    "    - isIpInSubnet(fieldName: string, subnet: string)\n",
    "    - isIpv4InSubnet(fieldName: string, subnet: string)\n",
    "    - isIpv6InSubnet(fieldName: string, subnet: string)\n",
    "3. String funcitons:\n",
    "    - isempty\n",
    "    - isblank\n",
    "    - concat\n",
    "    - trim\n",
    "    - strlen\n",
    "    - toupper\n",
    "    - tolower\n",
    "    - substr\n",
    "    - replace\n",
    "    - strcontains\n",
    "</functions>\n",
    "</context>\"\"\"\n",
    "\n",
    "# TODO: add better & clear rules\n",
    "rules = \"\"\"<rules>\n",
    "1. Make sure that query only uses fields, comparators, operators and functions listed above and no others.\n",
    "2. Use a pipe character (|) to separate multiple commands.\n",
    "3. Make sure query is syntactically correct. If there's no query then return \"NO_QUERY\"\n",
    "</rules>\"\"\"\n",
    "\n",
    "output_format_instructions = \"\"\"<output_format_instructions>\n",
    "When responding use a markdown code snippet with a JSON object formatted in the following schema:\n",
    "\n",
    "```json\n",
    "{{\n",
    "    \\\"query\\\": string \\ this runs on cloudwatch logs\n",
    "}}\n",
    "```\n",
    "\n",
    "Do not explain. Only respond with the JSON object. \n",
    "</output_format_instructions>\n",
    "\"\"\"\n",
    "\n",
    "system_template = \"\\n\\n\".join([\n",
    "    sytem_tone_context, context, rules, output_format_instructions\n",
    "])\n",
    "# template = f\"\\n\\nHuman: {template}\\nAssistant: \"\n",
    "\n",
    "# print(system_template)"
   ]
  },
  {
   "cell_type": "code",
   "execution_count": 171,
   "metadata": {},
   "outputs": [
    {
     "name": "stdout",
     "output_type": "stream",
     "text": [
      "H: Text: Show all logs where the values forloggingType are ERROR\n",
      "A: ```json\n",
      "{\n",
      "    \"query\": \"fields @message\n",
      "| parse @message \"[*] *\" as loggingType, loggingMessage\n",
      "| filter loggingType = \"ERROR\"\n",
      "| display loggingMessage\"\n",
      "}\n",
      "```\n",
      "H: Text: show the latest 20 log events\n",
      "A: ```json\n",
      "{\n",
      "    \"query\": \"fields @timestamp, @message\n",
      "| sort @timestamp desc\n",
      "| limit 20\"\n",
      "}\n",
      "```\n",
      "H: Text: show latest 20 logs with range greater than 3000\n",
      "A: ```json\n",
      "{\n",
      "    \"query\": \"fields @timestamp, @message\n",
      "| filter (range>3000)\n",
      "| sort @timestamp desc\n",
      "| limit 20\"\n",
      "}\n",
      "```\n"
     ]
    }
   ],
   "source": [
    "from langchain_community.vectorstores import FAISS, Chroma\n",
    "from langchain_community.embeddings import CohereEmbeddings\n",
    "from langchain.prompts import (\n",
    "    ChatPromptTemplate, \n",
    "    FewShotChatMessagePromptTemplate,\n",
    "    SemanticSimilarityExampleSelector,\n",
    "    HumanMessagePromptTemplate,\n",
    "    AIMessagePromptTemplate,\n",
    ")\n",
    "from langchain_core.messages import HumanMessage, AIMessage, BaseMessage\n",
    "from data import cwqueries\n",
    "\n",
    "examples = cwqueries.cw_data\n",
    "texts = [\"\\n---\\n\".join(example.values()) for example in examples]\n",
    "# print(texts[0])\n",
    "vectorstore = FAISS.from_texts(\n",
    "    texts=texts, embedding=CohereEmbeddings(), metadatas=examples\n",
    ")\n",
    "\n",
    "example_selector = SemanticSimilarityExampleSelector(\n",
    "    vectorstore=vectorstore, k=3\n",
    ")\n",
    "\n",
    "human_template = \"\"\"Text: {text}\"\"\"\n",
    "\n",
    "# ai_template = '''```json\n",
    "# {{\n",
    "#     \\\"query\\\": \"\"\"{query}\"\"\"\n",
    "# }}\n",
    "# ```'''\n",
    "\n",
    "ai_template = '''```json\n",
    "{{\n",
    "    \\\"query\\\": \"{query}\"\n",
    "}}\n",
    "```'''\n",
    "few_shot_examples_prompt = FewShotChatMessagePromptTemplate(\n",
    "    input_variables=[\"text\"],\n",
    "    example_selector=example_selector,\n",
    "    example_prompt=ChatPromptTemplate.from_messages([\n",
    "        # HumanMessagePromptTemplate.from_template(human_template),\n",
    "        # AIMessagePromptTemplate.from_template(ai_template)m\n",
    "        ChatMessagePromptTemplate.from_template(\n",
    "            role=\"H\", template=human_template\n",
    "        ),\n",
    "        ChatMessagePromptTemplate.from_template(\n",
    "            role=\"A\", template=ai_template\n",
    "        )\n",
    "    ]),\n",
    ")\n",
    "\n",
    "print(few_shot_examples_prompt.format(text=\"latest logs with errors\"))"
   ]
  },
  {
   "cell_type": "code",
   "execution_count": 172,
   "metadata": {},
   "outputs": [],
   "source": [
    "human_template = \"\"\"Generate query for below question.\n",
    "Text: {text}\"\"\""
   ]
  },
  {
   "cell_type": "code",
   "execution_count": 173,
   "metadata": {},
   "outputs": [],
   "source": [
    "# TODO: find a way to wrap few_shot_examples_prompt with <examples></examples> tag\n",
    "prompt = ChatPromptTemplate.from_messages([\n",
    "    (\"system\", system_template),\n",
    "    few_shot_examples_prompt,\n",
    "    (\"human\", human_template)\n",
    "])\n",
    "\n",
    "# print(prompt.format(text=\"latest logs with errors\"))"
   ]
  },
  {
   "cell_type": "code",
   "execution_count": 174,
   "metadata": {},
   "outputs": [],
   "source": [
    "import boto3, json\n",
    "from langchain_community.chat_models import BedrockChat\n",
    "\n",
    "llm = BedrockChat(\n",
    "    model_id=\"anthropic.claude-3-haiku-20240307-v1:0\",\n",
    "    # model_id=\"anthropic.claude-3-sonnet-20240229-v1:0\",\n",
    "    client=boto3.client(\"bedrock-runtime\"),\n",
    "    model_kwargs={\"temperature\": 0.0, \"max_tokens\":512}\n",
    ")\n",
    "\n",
    "# ! pip install multiline --quiet\n",
    "# import multiline\n",
    "# multiline.loads(res, multiline=True)\n",
    "\n",
    "def _sanitize_output(ai_message: str):\n",
    "    text = ai_message.content.strip()\n",
    "    _, after = text.split(\"```json\")\n",
    "    res = after.split(\"```\")[0]\n",
    "    res_json = json.loads(res, strict=False)\n",
    "    return res_json"
   ]
  },
  {
   "cell_type": "code",
   "execution_count": 184,
   "metadata": {},
   "outputs": [
    {
     "name": "stdout",
     "output_type": "stream",
     "text": [
      "actual_response: ```json\n",
      "{\n",
      "    \"query\": \"fields @timestamp, @message\n",
      "| filter @message like /ERROR/\n",
      "| sort @timestamp desc\n",
      "| limit 20\"\n",
      "}\n",
      "```\n",
      "-------------------------\n",
      "after_sanitization: {'query': 'fields @timestamp, @message\\n| filter @message like /ERROR/\\n| sort @timestamp desc\\n| limit 20'}\n",
      "CPU times: user 18.3 ms, sys: 3.43 ms, total: 21.8 ms\n",
      "Wall time: 1.16 s\n"
     ]
    }
   ],
   "source": [
    "%%time\n",
    "question = \"show the latest logs that contains ERROR\"\n",
    "\n",
    "response = llm.invoke(prompt.format(text=question))\n",
    "print(f\"actual_response: {response.content}\")\n",
    "print(\"-\"*25)\n",
    "final_response = _sanitize_output(response)\n",
    "print(f\"after_sanitization: {final_response}\")"
   ]
  },
  {
   "cell_type": "code",
   "execution_count": null,
   "metadata": {},
   "outputs": [],
   "source": []
  }
 ],
 "metadata": {
  "kernelspec": {
   "display_name": "pytorch",
   "language": "python",
   "name": "python3"
  },
  "language_info": {
   "codemirror_mode": {
    "name": "ipython",
    "version": 3
   },
   "file_extension": ".py",
   "mimetype": "text/x-python",
   "name": "python",
   "nbconvert_exporter": "python",
   "pygments_lexer": "ipython3",
   "version": "3.10.13"
  }
 },
 "nbformat": 4,
 "nbformat_minor": 2
}
