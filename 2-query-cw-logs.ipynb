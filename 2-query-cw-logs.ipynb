{
 "cells": [
  {
   "cell_type": "code",
   "execution_count": 2,
   "metadata": {},
   "outputs": [],
   "source": [
    "import boto3, json, time\n",
    "import pandas as pd\n",
    "from datetime import datetime, timedelta"
   ]
  },
  {
   "cell_type": "code",
   "execution_count": 3,
   "metadata": {},
   "outputs": [],
   "source": [
    "client = boto3.client('logs')"
   ]
  },
  {
   "cell_type": "code",
   "execution_count": 4,
   "metadata": {},
   "outputs": [],
   "source": [
    "log_group_names = [\n",
    "    \"/aws/sagemaker/Endpoints/amazon-falconlite2-2023-10-07-18-07-48-251\", \n",
    "    \"/aws/sagemaker/Endpoints/MistralLite-2023-10-19-09-58-03\",\n",
    "]"
   ]
  },
  {
   "cell_type": "code",
   "execution_count": 12,
   "metadata": {},
   "outputs": [],
   "source": [
    "def query_cw_logs(query, last_x_days):\n",
    "    # last_x_days = 100\n",
    "    last_time = timedelta(days=last_x_days)\n",
    "\n",
    "    start_query_response = client.start_query(\n",
    "        logGroupNames=log_group_names,\n",
    "        startTime=int((datetime.today() - last_time).timestamp()),\n",
    "        endTime=int(datetime.now().timestamp()),\n",
    "        queryString=query,\n",
    "    )\n",
    "    \n",
    "    query_id = start_query_response['queryId']\n",
    "    response = None\n",
    "    while response == None or response['status'] == 'Running':\n",
    "        print('Waiting 2 secs for query to complete ...')\n",
    "        time.sleep(2)\n",
    "        response = client.get_query_results(\n",
    "            queryId=query_id\n",
    "        )\n",
    "    print('Done!')\n",
    "    # response.keys(): dict_keys(['results', 'statistics', 'status', 'ResponseMetadata'])\n",
    "    \n",
    "    data = []\n",
    "    for item in response[\"results\"]:\n",
    "        new_item = {}\n",
    "        for record in item:\n",
    "            new_item[record[\"field\"]] = record[\"value\"]\n",
    "        data.append(new_item)\n",
    "    \n",
    "    df = pd.DataFrame(data)\n",
    "    return df"
   ]
  },
  {
   "cell_type": "code",
   "execution_count": 18,
   "metadata": {},
   "outputs": [],
   "source": [
    "# get all records with ERROR sort with timestamp and log_group_id\n",
    "# query = \"\"\"\n",
    "# fields @message \n",
    "# | filter @message like /ERROR/\n",
    "# | parse @message \"* : *\" as loggingRandom, loggingMessage\n",
    "# | display @timestamp, loggingMessage\n",
    "# | sort @timestamp \n",
    "# \"\"\"\n",
    "\n",
    "# Extracts the fields loggingTime, loggingType and loggingMessage, filters down to log events that contain ERROR or INFO strings, and then displays only the loggingMessage and loggingType fields for events that contain an ERROR string.\n",
    "# query = \"\"\"\n",
    "# fields @message\n",
    "#     | parse @message \"* [*] *\" as loggingTime, loggingType, loggingMessage\n",
    "#     | filter loggingType IN [\"ERROR\", \"INFO\"]\n",
    "#     | display loggingMessage, loggingType = \"ERROR\" as isError\n",
    "# \"\"\"\n",
    "\n",
    "# \"show the latest 20 log events\",\n",
    "query = \"\"\"fields @timestamp, @message\n",
    "| sort @timestamp desc\n",
    "| limit 20\"\"\""
   ]
  },
  {
   "cell_type": "code",
   "execution_count": 19,
   "metadata": {},
   "outputs": [
    {
     "name": "stdout",
     "output_type": "stream",
     "text": [
      "Waiting 2 secs for query to complete ...\n",
      "Waiting 2 secs for query to complete ...\n",
      "Done!\n"
     ]
    },
    {
     "data": {
      "text/html": [
       "<div>\n",
       "<style scoped>\n",
       "    .dataframe tbody tr th:only-of-type {\n",
       "        vertical-align: middle;\n",
       "    }\n",
       "\n",
       "    .dataframe tbody tr th {\n",
       "        vertical-align: top;\n",
       "    }\n",
       "\n",
       "    .dataframe thead th {\n",
       "        text-align: right;\n",
       "    }\n",
       "</style>\n",
       "<table border=\"1\" class=\"dataframe\">\n",
       "  <thead>\n",
       "    <tr style=\"text-align: right;\">\n",
       "      <th></th>\n",
       "      <th>@timestamp</th>\n",
       "      <th>@message</th>\n",
       "      <th>@ptr</th>\n",
       "    </tr>\n",
       "  </thead>\n",
       "  <tbody>\n",
       "    <tr>\n",
       "      <th>0</th>\n",
       "      <td>2023-10-19 10:07:11.211</td>\n",
       "      <td>#033[2m2023-10-19T10:07:06.648856Z#033[0m #033...</td>\n",
       "      <td>CoYBCkkKRTMyNDYyMjQwMDUxNDovYXdzL3NhZ2VtYWtlci...</td>\n",
       "    </tr>\n",
       "    <tr>\n",
       "      <th>1</th>\n",
       "      <td>2023-10-19 10:06:56.212</td>\n",
       "      <td>#033[2m2023-10-19T10:06:51.971205Z#033[0m #033...</td>\n",
       "      <td>CoYBCkkKRTMyNDYyMjQwMDUxNDovYXdzL3NhZ2VtYWtlci...</td>\n",
       "    </tr>\n",
       "    <tr>\n",
       "      <th>2</th>\n",
       "      <td>2023-10-19 10:05:53.212</td>\n",
       "      <td>#033[2m2023-10-19T10:05:49.026121Z#033[0m #033...</td>\n",
       "      <td>CoYBCkkKRTMyNDYyMjQwMDUxNDovYXdzL3NhZ2VtYWtlci...</td>\n",
       "    </tr>\n",
       "    <tr>\n",
       "      <th>3</th>\n",
       "      <td>2023-10-19 10:05:41.212</td>\n",
       "      <td>#033[2m2023-10-19T10:05:36.368668Z#033[0m #033...</td>\n",
       "      <td>CoYBCkkKRTMyNDYyMjQwMDUxNDovYXdzL3NhZ2VtYWtlci...</td>\n",
       "    </tr>\n",
       "    <tr>\n",
       "      <th>4</th>\n",
       "      <td>2023-10-19 10:05:24.212</td>\n",
       "      <td>#033[2m2023-10-19T10:05:19.373771Z#033[0m #033...</td>\n",
       "      <td>CoYBCkkKRTMyNDYyMjQwMDUxNDovYXdzL3NhZ2VtYWtlci...</td>\n",
       "    </tr>\n",
       "  </tbody>\n",
       "</table>\n",
       "</div>"
      ],
      "text/plain": [
       "                @timestamp                                           @message  \\\n",
       "0  2023-10-19 10:07:11.211  #033[2m2023-10-19T10:07:06.648856Z#033[0m #033...   \n",
       "1  2023-10-19 10:06:56.212  #033[2m2023-10-19T10:06:51.971205Z#033[0m #033...   \n",
       "2  2023-10-19 10:05:53.212  #033[2m2023-10-19T10:05:49.026121Z#033[0m #033...   \n",
       "3  2023-10-19 10:05:41.212  #033[2m2023-10-19T10:05:36.368668Z#033[0m #033...   \n",
       "4  2023-10-19 10:05:24.212  #033[2m2023-10-19T10:05:19.373771Z#033[0m #033...   \n",
       "\n",
       "                                                @ptr  \n",
       "0  CoYBCkkKRTMyNDYyMjQwMDUxNDovYXdzL3NhZ2VtYWtlci...  \n",
       "1  CoYBCkkKRTMyNDYyMjQwMDUxNDovYXdzL3NhZ2VtYWtlci...  \n",
       "2  CoYBCkkKRTMyNDYyMjQwMDUxNDovYXdzL3NhZ2VtYWtlci...  \n",
       "3  CoYBCkkKRTMyNDYyMjQwMDUxNDovYXdzL3NhZ2VtYWtlci...  \n",
       "4  CoYBCkkKRTMyNDYyMjQwMDUxNDovYXdzL3NhZ2VtYWtlci...  "
      ]
     },
     "execution_count": 19,
     "metadata": {},
     "output_type": "execute_result"
    }
   ],
   "source": [
    "df = query_cw_logs(query, last_x_days=300)\n",
    "df.head()"
   ]
  },
  {
   "cell_type": "code",
   "execution_count": null,
   "metadata": {},
   "outputs": [],
   "source": []
  }
 ],
 "metadata": {
  "kernelspec": {
   "display_name": "pytorch",
   "language": "python",
   "name": "python3"
  },
  "language_info": {
   "codemirror_mode": {
    "name": "ipython",
    "version": 3
   },
   "file_extension": ".py",
   "mimetype": "text/x-python",
   "name": "python",
   "nbconvert_exporter": "python",
   "pygments_lexer": "ipython3",
   "version": "3.10.13"
  }
 },
 "nbformat": 4,
 "nbformat_minor": 2
}
